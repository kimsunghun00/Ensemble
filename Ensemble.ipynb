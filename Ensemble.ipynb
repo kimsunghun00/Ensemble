{
 "cells": [
  {
   "cell_type": "code",
   "execution_count": 1,
   "metadata": {},
   "outputs": [
    {
     "name": "stdout",
     "output_type": "stream",
     "text": [
      "   column_index        column_name\n",
      "0             1  tBodyAcc-mean()-X\n",
      "1             2  tBodyAcc-mean()-Y\n",
      "2             3  tBodyAcc-mean()-Z\n",
      "3             4   tBodyAcc-std()-X\n",
      "4             5   tBodyAcc-std()-Y\n"
     ]
    }
   ],
   "source": [
    "import pandas as pd\n",
    "import numpy as np\n",
    "import matplotlib.pyplot as plt\n",
    "%matplotlib inline\n",
    "\n",
    "feature_name_df = pd.read_csv('./UCI HAR Dataset/features.txt', sep='\\s+',\n",
    "                              header=None, names=['column_index', 'column_name'])\n",
    "print(feature_name_df.head())"
   ]
  },
  {
   "cell_type": "code",
   "execution_count": 2,
   "metadata": {},
   "outputs": [
    {
     "name": "stdout",
     "output_type": "stream",
     "text": [
      "['tBodyAcc-mean()-X', 'tBodyAcc-mean()-Y', 'tBodyAcc-mean()-Z', 'tBodyAcc-std()-X', 'tBodyAcc-std()-Y', 'tBodyAcc-std()-Z', 'tBodyAcc-mad()-X', 'tBodyAcc-mad()-Y', 'tBodyAcc-mad()-Z', 'tBodyAcc-max()-X']\n"
     ]
    }
   ],
   "source": [
    "feature_name = feature_name_df.iloc[:, 1].values.tolist()\n",
    "print(feature_name[:10])"
   ]
  },
  {
   "cell_type": "code",
   "execution_count": 3,
   "metadata": {},
   "outputs": [
    {
     "name": "stdout",
     "output_type": "stream",
     "text": [
      "column_index    42\n",
      "dtype: int64\n"
     ]
    }
   ],
   "source": [
    "feature_dup_df = feature_name_df.groupby('column_name').count()\n",
    "print(feature_dup_df[feature_dup_df['column_index'] > 1 ].count())"
   ]
  },
  {
   "cell_type": "code",
   "execution_count": 4,
   "metadata": {},
   "outputs": [],
   "source": [
    "def get_new_feature_name_df(old_feature_name_df):\n",
    "    feature_dup_df = pd.DataFrame(data=old_feature_name_df.groupby('column_name').cumcount(), \n",
    "                                  columns = ['dup_cnt'])\n",
    "    feature_dup_df = feature_dup_df.reset_index()\n",
    "    \n",
    "    new_feature_name_df = pd.merge(old_feature_name_df.reset_index(), feature_dup_df, how='outer')\n",
    "    new_feature_name_df['column_name'] = new_feature_name_df[['column_name', 'dup_cnt']].apply(lambda x : x[0]+'_'+str(x[1]) if x[1] > 0 else x[0], axis=1)\n",
    "    new_feature_name_df = new_feature_name_df.drop(['index'], axis=1)\n",
    "    return new_feature_name_df\n",
    "\n",
    "def get_human_dataset():\n",
    "    feature_name_df = pd.read_csv('./UCI HAR Dataset/features.txt', sep='\\s+',\n",
    "                              header=None, names=['column_index', 'column_name'])\n",
    "    new_feature_name_df = get_new_feature_name_df(feature_name_df)\n",
    "    \n",
    "    feature_name = new_feature_name_df.iloc[:, 1].values.tolist()\n",
    "    \n",
    "    X_train = pd.read_csv('./UCI HAR Dataset/train/X_train.txt', sep='\\s+', names=feature_name)\n",
    "    X_test = pd.read_csv('./UCI HAR Dataset/test/X_test.txt', sep='\\s+', names=feature_name)\n",
    "    \n",
    "    y_train = pd.read_csv('./UCI HAR Dataset/train/y_train.txt', sep='\\s+', header=None, names=['action'])\n",
    "    y_test = pd.read_csv('./UCI HAR Dataset/test/y_test.txt', sep='\\s+', header=None, names=['action'])\n",
    "    \n",
    "    return X_train, X_test, y_train, y_test"
   ]
  },
  {
   "cell_type": "code",
   "execution_count": 5,
   "metadata": {},
   "outputs": [
    {
     "name": "stdout",
     "output_type": "stream",
     "text": [
      "학습 피처 데이터셋 정보\n",
      "<class 'pandas.core.frame.DataFrame'>\n",
      "RangeIndex: 7352 entries, 0 to 7351\n",
      "Columns: 561 entries, tBodyAcc-mean()-X to angle(Z,gravityMean)\n",
      "dtypes: float64(561)\n",
      "memory usage: 31.5 MB\n",
      "None\n"
     ]
    }
   ],
   "source": [
    "X_train, X_test, y_train, y_test = get_human_dataset()\n",
    "print('학습 피처 데이터셋 정보')\n",
    "print(X_train.info())"
   ]
  },
  {
   "cell_type": "code",
   "execution_count": 6,
   "metadata": {},
   "outputs": [
    {
     "name": "stdout",
     "output_type": "stream",
     "text": [
      "6    1407\n",
      "5    1374\n",
      "4    1286\n",
      "1    1226\n",
      "2    1073\n",
      "3     986\n",
      "Name: action, dtype: int64\n"
     ]
    }
   ],
   "source": [
    "print(y_train['action'].value_counts())"
   ]
  },
  {
   "cell_type": "markdown",
   "metadata": {},
   "source": [
    "## RandomForest"
   ]
  },
  {
   "cell_type": "code",
   "execution_count": 7,
   "metadata": {},
   "outputs": [
    {
     "name": "stdout",
     "output_type": "stream",
     "text": [
      "[5 5 5 ... 2 2 1]\n",
      "랜덤 포레스트 정확도: 0.9247\n"
     ]
    }
   ],
   "source": [
    "from sklearn.ensemble import RandomForestClassifier\n",
    "from sklearn.metrics import accuracy_score\n",
    "import warnings\n",
    "warnings.filterwarnings('ignore')\n",
    "\n",
    "rf_clf = RandomForestClassifier(n_estimators=400, max_depth=15, random_state=0)\n",
    "rf_clf.fit(X_train, y_train)\n",
    "rf_pred = rf_clf.predict(X_test)\n",
    "rf_accuracy = accuracy_score(y_test, rf_pred)\n",
    "print(rf_pred)\n",
    "print('랜덤 포레스트 정확도: {:.4f}'.format(rf_accuracy))"
   ]
  },
  {
   "cell_type": "code",
   "execution_count": 8,
   "metadata": {},
   "outputs": [
    {
     "data": {
      "text/plain": [
       "array([[2.50803859e-03, 0.00000000e+00, 0.00000000e+00, 8.20914828e-02,\n",
       "        9.07893251e-01, 7.50722795e-03],\n",
       "       [8.03858521e-06, 0.00000000e+00, 0.00000000e+00, 1.22813160e-01,\n",
       "        8.72153717e-01, 5.02508509e-03],\n",
       "       [8.03858521e-06, 1.08225108e-05, 0.00000000e+00, 1.39426569e-01,\n",
       "        8.60547342e-01, 7.22794751e-06],\n",
       "       ...,\n",
       "       [2.46951287e-01, 6.65084016e-01, 8.79646968e-02, 0.00000000e+00,\n",
       "        0.00000000e+00, 0.00000000e+00],\n",
       "       [3.90440489e-01, 5.08666661e-01, 9.83928496e-02, 0.00000000e+00,\n",
       "        2.50000000e-03, 0.00000000e+00],\n",
       "       [4.69813872e-01, 3.84188168e-01, 1.43497961e-01, 0.00000000e+00,\n",
       "        0.00000000e+00, 2.50000000e-03]])"
      ]
     },
     "execution_count": 8,
     "metadata": {},
     "output_type": "execute_result"
    }
   ],
   "source": [
    "rf_clf.predict_proba(X_test)"
   ]
  },
  {
   "cell_type": "markdown",
   "metadata": {},
   "source": [
    "## KNN"
   ]
  },
  {
   "cell_type": "code",
   "execution_count": 9,
   "metadata": {},
   "outputs": [
    {
     "name": "stdout",
     "output_type": "stream",
     "text": [
      "[5 5 5 ... 2 2 1]\n",
      "KNN 정확도: 0.9016\n"
     ]
    }
   ],
   "source": [
    "from sklearn.neighbors import KNeighborsClassifier\n",
    "\n",
    "knn_clf = KNeighborsClassifier(n_neighbors=5)\n",
    "knn_clf.fit(X_train, y_train)\n",
    "knn_pred = knn_clf.predict(X_test)\n",
    "knn_acc = accuracy_score(y_test, knn_pred)\n",
    "print(knn_pred)\n",
    "print('KNN 정확도: {:.4f}'.format(knn_acc))"
   ]
  },
  {
   "cell_type": "code",
   "execution_count": 10,
   "metadata": {},
   "outputs": [
    {
     "data": {
      "text/plain": [
       "array([[0. , 0. , 0. , 0. , 1. , 0. ],\n",
       "       [0. , 0. , 0. , 0.2, 0.8, 0. ],\n",
       "       [0. , 0. , 0. , 0. , 1. , 0. ],\n",
       "       ...,\n",
       "       [0. , 1. , 0. , 0. , 0. , 0. ],\n",
       "       [0. , 0.8, 0.2, 0. , 0. , 0. ],\n",
       "       [0.8, 0.2, 0. , 0. , 0. , 0. ]])"
      ]
     },
     "execution_count": 10,
     "metadata": {},
     "output_type": "execute_result"
    }
   ],
   "source": [
    "knn_clf.predict_proba(X_test)"
   ]
  },
  {
   "cell_type": "markdown",
   "metadata": {},
   "source": [
    "## LDA"
   ]
  },
  {
   "cell_type": "code",
   "execution_count": 11,
   "metadata": {},
   "outputs": [
    {
     "name": "stdout",
     "output_type": "stream",
     "text": [
      "[5 5 5 ... 2 2 2]\n",
      "NB 정확도 : 0.9623\n"
     ]
    }
   ],
   "source": [
    "from sklearn.discriminant_analysis import LinearDiscriminantAnalysis\n",
    "\n",
    "lda_clf = LinearDiscriminantAnalysis()\n",
    "lda_clf.fit(X_train, y_train)\n",
    "lda_pred = lda_clf.predict(X_test)\n",
    "lda_acc = accuracy_score(y_test, lda_pred)\n",
    "print(lda_pred)\n",
    "print('NB 정확도 : {:.4f}'.format(lda_acc))"
   ]
  },
  {
   "cell_type": "code",
   "execution_count": 12,
   "metadata": {},
   "outputs": [
    {
     "data": {
      "text/plain": [
       "array([[1.28498192e-160, 7.13634312e-159, 1.59893504e-178,\n",
       "        1.69164738e-009, 9.99999998e-001, 3.32984584e-081],\n",
       "       [4.82936289e-140, 2.25726792e-138, 8.31180827e-167,\n",
       "        2.80294898e-007, 9.99999720e-001, 5.13668964e-090],\n",
       "       [2.07804300e-149, 1.46045969e-148, 9.82771576e-173,\n",
       "        4.68842692e-005, 9.99953116e-001, 2.02198310e-083],\n",
       "       ...,\n",
       "       [8.00712792e-015, 1.00000000e+000, 6.94058854e-027,\n",
       "        3.15951200e-135, 1.08534188e-135, 3.39426433e-218],\n",
       "       [1.99660406e-016, 1.00000000e+000, 1.19066188e-025,\n",
       "        1.71221649e-124, 5.78733725e-126, 1.32932425e-207],\n",
       "       [3.72453106e-016, 1.00000000e+000, 3.57974786e-028,\n",
       "        4.40150515e-143, 9.62282449e-142, 1.22096449e-223]])"
      ]
     },
     "execution_count": 12,
     "metadata": {},
     "output_type": "execute_result"
    }
   ],
   "source": [
    "lda_clf.predict_proba(X_test)"
   ]
  },
  {
   "cell_type": "markdown",
   "metadata": {},
   "source": [
    "## logistic regressor"
   ]
  },
  {
   "cell_type": "code",
   "execution_count": 13,
   "metadata": {},
   "outputs": [
    {
     "name": "stdout",
     "output_type": "stream",
     "text": [
      "로지스틱 회귀 정확도: 0.9596\n"
     ]
    }
   ],
   "source": [
    "from sklearn.linear_model import LogisticRegression\n",
    "lr = LogisticRegression(penalty = 'l1', solver = 'saga', random_state=0)\n",
    "lr.fit(X_train, y_train)\n",
    "lr_pred = lr.predict(X_test)\n",
    "lr_acc = accuracy_score(y_test, lr_pred)\n",
    "\n",
    "print('로지스틱 회귀 정확도: {:.4f}'.format(lr_acc))"
   ]
  },
  {
   "cell_type": "code",
   "execution_count": 14,
   "metadata": {},
   "outputs": [
    {
     "data": {
      "text/plain": [
       "array([[3.85277300e-06, 3.56057794e-05, 5.18868288e-05, 5.21082570e-04,\n",
       "        9.99323585e-01, 6.39871270e-05],\n",
       "       [6.97524926e-06, 4.65953757e-05, 4.06029643e-06, 6.03471335e-02,\n",
       "        9.39512033e-01, 8.32028367e-05],\n",
       "       [7.96386528e-06, 1.48084279e-06, 3.09580451e-06, 3.08428831e-02,\n",
       "        9.69092069e-01, 5.25074462e-05],\n",
       "       ...,\n",
       "       [3.56123172e-03, 9.91928935e-01, 3.05871422e-03, 2.95998875e-04,\n",
       "        1.09468652e-03, 6.04337596e-05],\n",
       "       [1.09155795e-02, 9.79583450e-01, 5.45816194e-03, 2.82483998e-03,\n",
       "        1.07107032e-03, 1.46898283e-04],\n",
       "       [8.88225852e-02, 8.88970167e-01, 1.39521794e-02, 2.45691001e-03,\n",
       "        5.46429169e-03, 3.33866919e-04]])"
      ]
     },
     "execution_count": 14,
     "metadata": {},
     "output_type": "execute_result"
    }
   ],
   "source": [
    "lr.predict_proba(X_test)"
   ]
  },
  {
   "cell_type": "markdown",
   "metadata": {},
   "source": [
    "## Ensemble"
   ]
  },
  {
   "cell_type": "code",
   "execution_count": 15,
   "metadata": {},
   "outputs": [],
   "source": [
    "import torch\n",
    "\n",
    "class EnsembleClassifier:\n",
    "    def __init__(self, models, voting='soft', weights=None):\n",
    "        \n",
    "        self.models = models\n",
    "        self.voting = voting\n",
    "        self.weights = weights\n",
    "        \n",
    "        self.pred_list = []\n",
    "        \n",
    "    def predict(self, X_test): \n",
    "        for model in models.values():\n",
    "            self.pred_list.append(model.predict_proba(X_test))\n",
    "        preds = np.array(self.pred_list)\n",
    "            \n",
    "        if self.voting == 'soft':\n",
    "            prediction = np.average(preds, axis=0, weights=self.weights)\n",
    "        elif self.voting == 'hard':\n",
    "            pass\n",
    "\n",
    "        return prediction\n",
    "    \n",
    "    def random_search(self, X_test, y_test, num_search):\n",
    "        weights = torch.softmax(torch.rand(num_search, len(self.models)), axis=1).numpy()\n",
    "        \n",
    "        for model in models.values():\n",
    "            self.pred_list.append(model.predict_proba(X_test))\n",
    "        preds = np.array(self.pred_list)\n",
    "\n",
    "        acc = []\n",
    "        for i in range(num_search):\n",
    "            prediction = np.average(preds, axis=0, weights=weights[i])\n",
    "            accuracy = accuracy_score(y_test, prediction.argmax(axis=1)+1)\n",
    "            acc.append(accuracy)\n",
    "\n",
    "            if i % 100 == 0:\n",
    "                print('{:.2f}, {:.2f}, {:.2f}'.format(weights[i,0], weights[i,1], weights[i,2]))\n",
    "                print('{}번 앙상블 모델 정확도: {:.4f}'.format(i, accuracy))\n",
    "                print()\n",
    "        \n",
    "        result = pd.DataFrame(weights, columns=['w1', 'w2', 'w3', 'w4'])\n",
    "        result['accuracy'] = acc\n",
    "\n",
    "        return result.sort_values('accuracy', ascending=False)"
   ]
  },
  {
   "cell_type": "code",
   "execution_count": 17,
   "metadata": {},
   "outputs": [
    {
     "name": "stdout",
     "output_type": "stream",
     "text": [
      "0.25, 0.15, 0.33\n",
      "0번 앙상블 모델 정확도: 0.9684\n",
      "\n",
      "0.29, 0.16, 0.28\n",
      "100번 앙상블 모델 정확도: 0.9664\n",
      "\n",
      "0.21, 0.30, 0.22\n",
      "200번 앙상블 모델 정확도: 0.9650\n",
      "\n",
      "0.38, 0.18, 0.28\n",
      "300번 앙상블 모델 정확도: 0.9657\n",
      "\n",
      "0.18, 0.44, 0.19\n",
      "400번 앙상블 모델 정확도: 0.9566\n",
      "\n",
      "0.34, 0.20, 0.23\n",
      "500번 앙상블 모델 정확도: 0.9657\n",
      "\n",
      "0.35, 0.21, 0.22\n",
      "600번 앙상블 모델 정확도: 0.9657\n",
      "\n",
      "0.28, 0.16, 0.34\n",
      "700번 앙상블 모델 정확도: 0.9674\n",
      "\n",
      "0.19, 0.33, 0.14\n",
      "800번 앙상블 모델 정확도: 0.9640\n",
      "\n",
      "0.24, 0.31, 0.26\n",
      "900번 앙상블 모델 정확도: 0.9657\n",
      "\n",
      "0.23, 0.31, 0.24\n",
      "1000번 앙상블 모델 정확도: 0.9647\n",
      "\n",
      "0.17, 0.31, 0.18\n",
      "1100번 앙상블 모델 정확도: 0.9647\n",
      "\n",
      "0.27, 0.17, 0.19\n",
      "1200번 앙상블 모델 정확도: 0.9667\n",
      "\n",
      "0.25, 0.15, 0.28\n",
      "1300번 앙상블 모델 정확도: 0.9674\n",
      "\n",
      "0.34, 0.17, 0.31\n",
      "1400번 앙상블 모델 정확도: 0.9667\n",
      "\n",
      "0.25, 0.26, 0.29\n",
      "1500번 앙상블 모델 정확도: 0.9678\n",
      "\n",
      "0.31, 0.22, 0.23\n",
      "1600번 앙상블 모델 정확도: 0.9657\n",
      "\n",
      "0.30, 0.32, 0.13\n",
      "1700번 앙상블 모델 정확도: 0.9610\n",
      "\n",
      "0.22, 0.24, 0.34\n",
      "1800번 앙상블 모델 정확도: 0.9674\n",
      "\n",
      "0.15, 0.31, 0.22\n",
      "1900번 앙상블 모델 정확도: 0.9664\n",
      "\n"
     ]
    },
    {
     "data": {
      "text/html": [
       "<div>\n",
       "<style scoped>\n",
       "    .dataframe tbody tr th:only-of-type {\n",
       "        vertical-align: middle;\n",
       "    }\n",
       "\n",
       "    .dataframe tbody tr th {\n",
       "        vertical-align: top;\n",
       "    }\n",
       "\n",
       "    .dataframe thead th {\n",
       "        text-align: right;\n",
       "    }\n",
       "</style>\n",
       "<table border=\"1\" class=\"dataframe\">\n",
       "  <thead>\n",
       "    <tr style=\"text-align: right;\">\n",
       "      <th></th>\n",
       "      <th>w1</th>\n",
       "      <th>w2</th>\n",
       "      <th>w3</th>\n",
       "      <th>w4</th>\n",
       "      <th>accuracy</th>\n",
       "    </tr>\n",
       "  </thead>\n",
       "  <tbody>\n",
       "    <tr>\n",
       "      <th>286</th>\n",
       "      <td>0.174314</td>\n",
       "      <td>0.189810</td>\n",
       "      <td>0.361090</td>\n",
       "      <td>0.274786</td>\n",
       "      <td>0.969121</td>\n",
       "    </tr>\n",
       "    <tr>\n",
       "      <th>1374</th>\n",
       "      <td>0.169350</td>\n",
       "      <td>0.220571</td>\n",
       "      <td>0.367188</td>\n",
       "      <td>0.242891</td>\n",
       "      <td>0.969121</td>\n",
       "    </tr>\n",
       "    <tr>\n",
       "      <th>572</th>\n",
       "      <td>0.166897</td>\n",
       "      <td>0.196536</td>\n",
       "      <td>0.360871</td>\n",
       "      <td>0.275696</td>\n",
       "      <td>0.969121</td>\n",
       "    </tr>\n",
       "    <tr>\n",
       "      <th>1699</th>\n",
       "      <td>0.162605</td>\n",
       "      <td>0.208052</td>\n",
       "      <td>0.363127</td>\n",
       "      <td>0.266215</td>\n",
       "      <td>0.969121</td>\n",
       "    </tr>\n",
       "    <tr>\n",
       "      <th>1196</th>\n",
       "      <td>0.192606</td>\n",
       "      <td>0.208997</td>\n",
       "      <td>0.356288</td>\n",
       "      <td>0.242109</td>\n",
       "      <td>0.969121</td>\n",
       "    </tr>\n",
       "    <tr>\n",
       "      <th>931</th>\n",
       "      <td>0.170444</td>\n",
       "      <td>0.180420</td>\n",
       "      <td>0.357716</td>\n",
       "      <td>0.291420</td>\n",
       "      <td>0.969121</td>\n",
       "    </tr>\n",
       "    <tr>\n",
       "      <th>1956</th>\n",
       "      <td>0.202142</td>\n",
       "      <td>0.206220</td>\n",
       "      <td>0.348841</td>\n",
       "      <td>0.242797</td>\n",
       "      <td>0.969121</td>\n",
       "    </tr>\n",
       "    <tr>\n",
       "      <th>1606</th>\n",
       "      <td>0.153234</td>\n",
       "      <td>0.192522</td>\n",
       "      <td>0.348692</td>\n",
       "      <td>0.305552</td>\n",
       "      <td>0.968782</td>\n",
       "    </tr>\n",
       "    <tr>\n",
       "      <th>780</th>\n",
       "      <td>0.179500</td>\n",
       "      <td>0.198340</td>\n",
       "      <td>0.343541</td>\n",
       "      <td>0.278619</td>\n",
       "      <td>0.968782</td>\n",
       "    </tr>\n",
       "    <tr>\n",
       "      <th>1657</th>\n",
       "      <td>0.152675</td>\n",
       "      <td>0.190788</td>\n",
       "      <td>0.303739</td>\n",
       "      <td>0.352798</td>\n",
       "      <td>0.968782</td>\n",
       "    </tr>\n",
       "  </tbody>\n",
       "</table>\n",
       "</div>"
      ],
      "text/plain": [
       "            w1        w2        w3        w4  accuracy\n",
       "286   0.174314  0.189810  0.361090  0.274786  0.969121\n",
       "1374  0.169350  0.220571  0.367188  0.242891  0.969121\n",
       "572   0.166897  0.196536  0.360871  0.275696  0.969121\n",
       "1699  0.162605  0.208052  0.363127  0.266215  0.969121\n",
       "1196  0.192606  0.208997  0.356288  0.242109  0.969121\n",
       "931   0.170444  0.180420  0.357716  0.291420  0.969121\n",
       "1956  0.202142  0.206220  0.348841  0.242797  0.969121\n",
       "1606  0.153234  0.192522  0.348692  0.305552  0.968782\n",
       "780   0.179500  0.198340  0.343541  0.278619  0.968782\n",
       "1657  0.152675  0.190788  0.303739  0.352798  0.968782"
      ]
     },
     "execution_count": 17,
     "metadata": {},
     "output_type": "execute_result"
    }
   ],
   "source": [
    "models = {'rf' : rf_clf, 'knn':knn_clf, 'lda': lda_clf,'lr' : lr}\n",
    "\n",
    "ensemble = EnsembleClassifier(models, voting='soft', weights=None)\n",
    "result = ensemble.random_search(X_test, y_test, 2000)\n",
    "result.head(10)"
   ]
  },
  {
   "cell_type": "code",
   "execution_count": 18,
   "metadata": {},
   "outputs": [
    {
     "name": "stdout",
     "output_type": "stream",
     "text": [
      "[[4.27445336e-04 9.96961822e-06 1.45283121e-05 1.41014558e-02\n",
      "  9.84152456e-01 1.29414515e-03]\n",
      " [3.31962928e-06 1.30467052e-05 1.13688300e-06 7.57755354e-02\n",
      "  9.23329400e-01 8.77561260e-04]\n",
      " [3.59644176e-06 2.25446282e-06 8.66825263e-07 3.23554023e-02\n",
      "  9.67621949e-01 1.59308360e-05]\n",
      " ...\n",
      " [4.29788637e-02 9.40804385e-01 1.58104384e-02 8.28796849e-05\n",
      "  3.06512227e-04 1.69214527e-05]\n",
      " [6.94312454e-02 8.72756698e-01 5.62550698e-02 7.90955196e-04\n",
      "  7.24899689e-04 4.11315193e-05]\n",
      " [2.56738682e-01 7.12223635e-01 2.83012635e-02 6.87934803e-04\n",
      "  1.53000167e-03 5.18482737e-04]]\n"
     ]
    }
   ],
   "source": [
    "ensemble = EnsembleClassifier(models, voting='soft', weights=[0.17, 0.19, 0.36, 0.28])\n",
    "preds = ensemble.predict(X_test)\n",
    "print(preds)"
   ]
  },
  {
   "cell_type": "code",
   "execution_count": 19,
   "metadata": {},
   "outputs": [
    {
     "name": "stdout",
     "output_type": "stream",
     "text": [
      "앙상블 모델 정확도: 0.9691\n"
     ]
    }
   ],
   "source": [
    "accuracy = accuracy_score(y_test, preds.argmax(axis=1)+1)\n",
    "print('앙상블 모델 정확도: {:.4f}'.format(accuracy))"
   ]
  },
  {
   "cell_type": "code",
   "execution_count": null,
   "metadata": {},
   "outputs": [],
   "source": []
  }
 ],
 "metadata": {
  "kernelspec": {
   "display_name": "Python 3",
   "language": "python",
   "name": "python3"
  },
  "language_info": {
   "codemirror_mode": {
    "name": "ipython",
    "version": 3
   },
   "file_extension": ".py",
   "mimetype": "text/x-python",
   "name": "python",
   "nbconvert_exporter": "python",
   "pygments_lexer": "ipython3",
   "version": "3.8.5"
  }
 },
 "nbformat": 4,
 "nbformat_minor": 4
}
