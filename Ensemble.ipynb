{
 "cells": [
  {
   "cell_type": "code",
   "execution_count": 1,
   "metadata": {},
   "outputs": [
    {
     "name": "stdout",
     "output_type": "stream",
     "text": [
      "   column_index        column_name\n",
      "0             1  tBodyAcc-mean()-X\n",
      "1             2  tBodyAcc-mean()-Y\n",
      "2             3  tBodyAcc-mean()-Z\n",
      "3             4   tBodyAcc-std()-X\n",
      "4             5   tBodyAcc-std()-Y\n"
     ]
    }
   ],
   "source": [
    "import pandas as pd\n",
    "import numpy as np\n",
    "import matplotlib.pyplot as plt\n",
    "%matplotlib inline\n",
    "\n",
    "feature_name_df = pd.read_csv('./UCI HAR Dataset/features.txt', sep='\\s+',\n",
    "                              header=None, names=['column_index', 'column_name'])\n",
    "print(feature_name_df.head())"
   ]
  },
  {
   "cell_type": "code",
   "execution_count": 2,
   "metadata": {},
   "outputs": [
    {
     "name": "stdout",
     "output_type": "stream",
     "text": [
      "['tBodyAcc-mean()-X', 'tBodyAcc-mean()-Y', 'tBodyAcc-mean()-Z', 'tBodyAcc-std()-X', 'tBodyAcc-std()-Y', 'tBodyAcc-std()-Z', 'tBodyAcc-mad()-X', 'tBodyAcc-mad()-Y', 'tBodyAcc-mad()-Z', 'tBodyAcc-max()-X']\n"
     ]
    }
   ],
   "source": [
    "feature_name = feature_name_df.iloc[:, 1].values.tolist()\n",
    "print(feature_name[:10])"
   ]
  },
  {
   "cell_type": "code",
   "execution_count": 3,
   "metadata": {},
   "outputs": [
    {
     "name": "stdout",
     "output_type": "stream",
     "text": [
      "column_index    42\n",
      "dtype: int64\n"
     ]
    }
   ],
   "source": [
    "feature_dup_df = feature_name_df.groupby('column_name').count()\n",
    "print(feature_dup_df[feature_dup_df['column_index'] > 1 ].count())"
   ]
  },
  {
   "cell_type": "code",
   "execution_count": 4,
   "metadata": {},
   "outputs": [],
   "source": [
    "def get_new_feature_name_df(old_feature_name_df):\n",
    "    feature_dup_df = pd.DataFrame(data=old_feature_name_df.groupby('column_name').cumcount(), \n",
    "                                  columns = ['dup_cnt'])\n",
    "    feature_dup_df = feature_dup_df.reset_index()\n",
    "    \n",
    "    new_feature_name_df = pd.merge(old_feature_name_df.reset_index(), feature_dup_df, how='outer')\n",
    "    new_feature_name_df['column_name'] = new_feature_name_df[['column_name', 'dup_cnt']].apply(lambda x : x[0]+'_'+str(x[1]) if x[1] > 0 else x[0], axis=1)\n",
    "    new_feature_name_df = new_feature_name_df.drop(['index'], axis=1)\n",
    "    return new_feature_name_df\n",
    "\n",
    "def get_human_dataset():\n",
    "    feature_name_df = pd.read_csv('./UCI HAR Dataset/features.txt', sep='\\s+',\n",
    "                              header=None, names=['column_index', 'column_name'])\n",
    "    new_feature_name_df = get_new_feature_name_df(feature_name_df)\n",
    "    \n",
    "    feature_name = new_feature_name_df.iloc[:, 1].values.tolist()\n",
    "    \n",
    "    X_train = pd.read_csv('./UCI HAR Dataset/train/X_train.txt', sep='\\s+', names=feature_name)\n",
    "    X_test = pd.read_csv('./UCI HAR Dataset/test/X_test.txt', sep='\\s+', names=feature_name)\n",
    "    \n",
    "    y_train = pd.read_csv('./UCI HAR Dataset/train/y_train.txt', sep='\\s+', header=None, names=['action'])\n",
    "    y_test = pd.read_csv('./UCI HAR Dataset/test/y_test.txt', sep='\\s+', header=None, names=['action'])\n",
    "    \n",
    "    return X_train, X_test, y_train, y_test"
   ]
  },
  {
   "cell_type": "code",
   "execution_count": 5,
   "metadata": {},
   "outputs": [
    {
     "name": "stdout",
     "output_type": "stream",
     "text": [
      "학습 피처 데이터셋 정보\n",
      "<class 'pandas.core.frame.DataFrame'>\n",
      "RangeIndex: 7352 entries, 0 to 7351\n",
      "Columns: 561 entries, tBodyAcc-mean()-X to angle(Z,gravityMean)\n",
      "dtypes: float64(561)\n",
      "memory usage: 31.5 MB\n",
      "None\n"
     ]
    }
   ],
   "source": [
    "X_train, X_test, y_train, y_test = get_human_dataset()\n",
    "print('학습 피처 데이터셋 정보')\n",
    "print(X_train.info())"
   ]
  },
  {
   "cell_type": "code",
   "execution_count": 6,
   "metadata": {},
   "outputs": [
    {
     "name": "stdout",
     "output_type": "stream",
     "text": [
      "6    1407\n",
      "5    1374\n",
      "4    1286\n",
      "1    1226\n",
      "2    1073\n",
      "3     986\n",
      "Name: action, dtype: int64\n"
     ]
    }
   ],
   "source": [
    "print(y_train['action'].value_counts())"
   ]
  },
  {
   "cell_type": "markdown",
   "metadata": {},
   "source": [
    "## RandomForest"
   ]
  },
  {
   "cell_type": "code",
   "execution_count": 7,
   "metadata": {},
   "outputs": [
    {
     "name": "stdout",
     "output_type": "stream",
     "text": [
      "[5 5 5 ... 2 2 2]\n",
      "랜덤 포레스트 정확도: 0.9253\n"
     ]
    }
   ],
   "source": [
    "from sklearn.ensemble import RandomForestClassifier\n",
    "from sklearn.metrics import accuracy_score\n",
    "import warnings\n",
    "warnings.filterwarnings('ignore')\n",
    "\n",
    "rf_clf = RandomForestClassifier(random_state=0)\n",
    "rf_clf.fit(X_train, y_train)\n",
    "rf_pred = rf_clf.predict(X_test)\n",
    "rf_accuracy = accuracy_score(y_test, rf_pred)\n",
    "print(rf_pred)\n",
    "print('랜덤 포레스트 정확도: {:.4f}'.format(rf_accuracy))"
   ]
  },
  {
   "cell_type": "code",
   "execution_count": 8,
   "metadata": {},
   "outputs": [
    {
     "data": {
      "text/plain": [
       "array([[0.  , 0.  , 0.  , 0.1 , 0.89, 0.01],\n",
       "       [0.  , 0.  , 0.  , 0.15, 0.85, 0.  ],\n",
       "       [0.  , 0.  , 0.  , 0.08, 0.92, 0.  ],\n",
       "       ...,\n",
       "       [0.19, 0.73, 0.08, 0.  , 0.  , 0.  ],\n",
       "       [0.36, 0.54, 0.1 , 0.  , 0.  , 0.  ],\n",
       "       [0.43, 0.44, 0.13, 0.  , 0.  , 0.  ]])"
      ]
     },
     "execution_count": 8,
     "metadata": {},
     "output_type": "execute_result"
    }
   ],
   "source": [
    "rf_clf.predict_proba(X_test)"
   ]
  },
  {
   "cell_type": "markdown",
   "metadata": {},
   "source": [
    "## AdaBoost"
   ]
  },
  {
   "cell_type": "code",
   "execution_count": 9,
   "metadata": {},
   "outputs": [
    {
     "name": "stdout",
     "output_type": "stream",
     "text": [
      "에이다부스트 정확도: 0.7234\n",
      "에이다부스트 수행시간: 35.6 초\n"
     ]
    }
   ],
   "source": [
    "from sklearn.ensemble import AdaBoostClassifier\n",
    "import time\n",
    "\n",
    "start_time = time.time()\n",
    "ab_clf = AdaBoostClassifier(n_estimators=100, learning_rate=0.01, random_state=0)\n",
    "ab_clf.fit(X_train, y_train)\n",
    "ab_pred = ab_clf.predict(X_test)\n",
    "ab_accuracy = accuracy_score(y_test, ab_pred)\n",
    "\n",
    "print('에이다부스트 정확도: {:.4f}'.format(ab_accuracy))\n",
    "print('에이다부스트 수행시간: {:.1f} 초'.format(time.time() - start_time))"
   ]
  },
  {
   "cell_type": "code",
   "execution_count": 10,
   "metadata": {},
   "outputs": [
    {
     "data": {
      "text/plain": [
       "array([[5.45881046e-09, 1.78909812e-06, 2.42621209e-09, 3.73303942e-01,\n",
       "        4.04795874e-01, 2.21898387e-01],\n",
       "       [5.45881046e-09, 1.78909812e-06, 2.42621209e-09, 3.73303942e-01,\n",
       "        4.04795874e-01, 2.21898387e-01],\n",
       "       [8.84563631e-09, 1.14034127e-06, 3.17287659e-09, 3.77538849e-01,\n",
       "        3.72485584e-01, 2.49974415e-01],\n",
       "       ...,\n",
       "       [4.05642676e-01, 3.43655925e-01, 2.45657315e-01, 5.20985789e-07,\n",
       "        1.86499032e-09, 5.04356104e-03],\n",
       "       [4.05642676e-01, 3.43655925e-01, 2.45657315e-01, 5.20985789e-07,\n",
       "        1.86499032e-09, 5.04356104e-03],\n",
       "       [4.05642676e-01, 3.43655925e-01, 2.45657315e-01, 5.20985789e-07,\n",
       "        1.86499032e-09, 5.04356104e-03]])"
      ]
     },
     "execution_count": 10,
     "metadata": {},
     "output_type": "execute_result"
    }
   ],
   "source": [
    "ab_clf.predict_proba(X_test)"
   ]
  },
  {
   "cell_type": "markdown",
   "metadata": {},
   "source": [
    "## logistic regressor"
   ]
  },
  {
   "cell_type": "code",
   "execution_count": 11,
   "metadata": {},
   "outputs": [
    {
     "name": "stdout",
     "output_type": "stream",
     "text": [
      "로지스틱 회귀 정확도: 0.9586\n"
     ]
    }
   ],
   "source": [
    "from sklearn.linear_model import LogisticRegression\n",
    "lr = LogisticRegression(random_state=0)\n",
    "lr.fit(X_train, y_train)\n",
    "lr_pred = lr.predict(X_test)\n",
    "lr_acc = accuracy_score(y_test, lr_pred)\n",
    "\n",
    "print('로지스틱 회귀 정확도: {:.4f}'.format(lr_acc))"
   ]
  },
  {
   "cell_type": "code",
   "execution_count": 12,
   "metadata": {},
   "outputs": [
    {
     "data": {
      "text/plain": [
       "array([[2.48042103e-08, 2.00975109e-08, 5.19835663e-09, 8.76441196e-05,\n",
       "        9.99856544e-01, 5.57618556e-05],\n",
       "       [2.95201722e-08, 2.45473674e-09, 1.42412778e-11, 6.13820127e-02,\n",
       "        9.38361941e-01, 2.56013955e-04],\n",
       "       [3.79294431e-09, 6.93463370e-12, 6.14480616e-12, 3.93228724e-02,\n",
       "        9.60555196e-01, 1.21927867e-04],\n",
       "       ...,\n",
       "       [1.80662485e-03, 9.96918277e-01, 1.27287565e-03, 1.00258552e-07,\n",
       "        2.10703401e-06, 1.48141803e-08],\n",
       "       [1.05395103e-02, 9.86998666e-01, 2.45114919e-03, 6.35020981e-06,\n",
       "        4.19440573e-06, 1.30325738e-07],\n",
       "       [9.51361344e-02, 8.98298943e-01, 6.53102353e-03, 4.71699150e-06,\n",
       "        2.88473716e-05, 3.34567788e-07]])"
      ]
     },
     "execution_count": 12,
     "metadata": {},
     "output_type": "execute_result"
    }
   ],
   "source": [
    "lr.predict_proba(X_test)"
   ]
  },
  {
   "cell_type": "markdown",
   "metadata": {},
   "source": [
    "## Ensemble"
   ]
  },
  {
   "cell_type": "code",
   "execution_count": 13,
   "metadata": {},
   "outputs": [],
   "source": [
    "class EnsembleClassifier:\n",
    "    def __init__(self, models, voting='soft', weights=None):\n",
    "        \n",
    "        self.models = models\n",
    "        self.voting = voting\n",
    "        self.weights = weights\n",
    "        \n",
    "    def predict(self, X_test):\n",
    "        rf_clf = self.models['rf']\n",
    "        ab_clf = self.models['ab']\n",
    "        lr = self.models['lr']\n",
    "        \n",
    "        rf_pred = rf_clf.predict_proba(X_test)\n",
    "        ab_pred = ab_clf.predict_proba(X_test)\n",
    "        lr_pred = lr.predict_proba(X_test)\n",
    "        \n",
    "        preds = np.array([rf_pred, ab_pred, lr_pred])\n",
    "        \n",
    "        if self.voting == 'soft':\n",
    "            prediction = np.average(preds, axis=0, weights=self.weights)\n",
    "        elif self.voting == 'hard':\n",
    "            pass\n",
    "\n",
    "        return prediction"
   ]
  },
  {
   "cell_type": "code",
   "execution_count": 14,
   "metadata": {},
   "outputs": [],
   "source": [
    "models = {'rf' : rf_clf, 'ab' : ab_clf, 'lr' : lr}\n",
    "\n",
    "ensemble = EnsembleClassifier(models, voting='soft', weights=[0.25, 0.28, 0.47])\n",
    "preds = ensemble.predict(X_test)"
   ]
  },
  {
   "cell_type": "code",
   "execution_count": 15,
   "metadata": {},
   "outputs": [
    {
     "name": "stdout",
     "output_type": "stream",
     "text": [
      "앙상블 모델 정확도: 0.9593\n"
     ]
    }
   ],
   "source": [
    "accuracy = accuracy_score(y_test, preds.argmax(axis=1)+1)\n",
    "print('앙상블 모델 정확도: {:.4f}'.format(accuracy))"
   ]
  },
  {
   "cell_type": "code",
   "execution_count": 16,
   "metadata": {
    "scrolled": true
   },
   "outputs": [
    {
     "name": "stdout",
     "output_type": "stream",
     "text": [
      "0.41, 0.35, 0.24\n",
      "0 앙상블 모델 정확도: 0.9505\n",
      "\n",
      "0.42, 0.28, 0.30\n",
      "100 앙상블 모델 정확도: 0.9532\n",
      "\n",
      "0.32, 0.47, 0.21\n",
      "200 앙상블 모델 정확도: 0.9501\n",
      "\n",
      "0.35, 0.33, 0.32\n",
      "300 앙상블 모델 정확도: 0.9539\n",
      "\n",
      "0.25, 0.41, 0.34\n",
      "400 앙상블 모델 정확도: 0.9569\n",
      "\n",
      "0.36, 0.24, 0.40\n",
      "500 앙상블 모델 정확도: 0.9569\n",
      "\n",
      "0.25, 0.22, 0.53\n",
      "600 앙상블 모델 정확도: 0.9589\n",
      "\n",
      "0.42, 0.25, 0.33\n",
      "700 앙상블 모델 정확도: 0.9542\n",
      "\n",
      "0.31, 0.27, 0.41\n",
      "800 앙상블 모델 정확도: 0.9576\n",
      "\n",
      "0.21, 0.40, 0.39\n",
      "900 앙상블 모델 정확도: 0.9583\n",
      "\n"
     ]
    }
   ],
   "source": [
    "import torch\n",
    "\n",
    "num = 1000\n",
    "w = torch.softmax(torch.rand(num, 3), axis=1)\n",
    "\n",
    "acc = []\n",
    "for epoch in range(num):\n",
    "    weights = list(w[epoch].numpy())\n",
    "    ensemble = EnsembleClassifier(models, voting='soft', weights=weights)\n",
    "    preds = ensemble.predict(X_test)\n",
    "    accuracy = accuracy_score(y_test, preds.argmax(axis=1)+1)\n",
    "    acc.append(accuracy)\n",
    "    \n",
    "    if epoch % 100 == 0:\n",
    "        print('{:.2f}, {:.2f}, {:.2f}'.format(weights[0], weights[1], weights[2]))\n",
    "        print('{} 앙상블 모델 정확도: {:.4f}'.format(epoch, accuracy))\n",
    "        print()"
   ]
  },
  {
   "cell_type": "code",
   "execution_count": 17,
   "metadata": {},
   "outputs": [
    {
     "data": {
      "text/html": [
       "<div>\n",
       "<style scoped>\n",
       "    .dataframe tbody tr th:only-of-type {\n",
       "        vertical-align: middle;\n",
       "    }\n",
       "\n",
       "    .dataframe tbody tr th {\n",
       "        vertical-align: top;\n",
       "    }\n",
       "\n",
       "    .dataframe thead th {\n",
       "        text-align: right;\n",
       "    }\n",
       "</style>\n",
       "<table border=\"1\" class=\"dataframe\">\n",
       "  <thead>\n",
       "    <tr style=\"text-align: right;\">\n",
       "      <th></th>\n",
       "      <th>w1</th>\n",
       "      <th>w2</th>\n",
       "      <th>w3</th>\n",
       "      <th>accuracy</th>\n",
       "    </tr>\n",
       "  </thead>\n",
       "  <tbody>\n",
       "    <tr>\n",
       "      <th>610</th>\n",
       "      <td>0.258671</td>\n",
       "      <td>0.259550</td>\n",
       "      <td>0.481779</td>\n",
       "      <td>0.959281</td>\n",
       "    </tr>\n",
       "    <tr>\n",
       "      <th>749</th>\n",
       "      <td>0.249549</td>\n",
       "      <td>0.252133</td>\n",
       "      <td>0.498318</td>\n",
       "      <td>0.959281</td>\n",
       "    </tr>\n",
       "    <tr>\n",
       "      <th>207</th>\n",
       "      <td>0.231672</td>\n",
       "      <td>0.262851</td>\n",
       "      <td>0.505477</td>\n",
       "      <td>0.959281</td>\n",
       "    </tr>\n",
       "    <tr>\n",
       "      <th>442</th>\n",
       "      <td>0.241792</td>\n",
       "      <td>0.286375</td>\n",
       "      <td>0.471832</td>\n",
       "      <td>0.959281</td>\n",
       "    </tr>\n",
       "    <tr>\n",
       "      <th>795</th>\n",
       "      <td>0.208162</td>\n",
       "      <td>0.321381</td>\n",
       "      <td>0.470458</td>\n",
       "      <td>0.959281</td>\n",
       "    </tr>\n",
       "    <tr>\n",
       "      <th>...</th>\n",
       "      <td>...</td>\n",
       "      <td>...</td>\n",
       "      <td>...</td>\n",
       "      <td>...</td>\n",
       "    </tr>\n",
       "    <tr>\n",
       "      <th>769</th>\n",
       "      <td>0.522354</td>\n",
       "      <td>0.270257</td>\n",
       "      <td>0.207388</td>\n",
       "      <td>0.947743</td>\n",
       "    </tr>\n",
       "    <tr>\n",
       "      <th>285</th>\n",
       "      <td>0.474847</td>\n",
       "      <td>0.335260</td>\n",
       "      <td>0.189892</td>\n",
       "      <td>0.947404</td>\n",
       "    </tr>\n",
       "    <tr>\n",
       "      <th>75</th>\n",
       "      <td>0.447734</td>\n",
       "      <td>0.353069</td>\n",
       "      <td>0.199196</td>\n",
       "      <td>0.947404</td>\n",
       "    </tr>\n",
       "    <tr>\n",
       "      <th>867</th>\n",
       "      <td>0.449196</td>\n",
       "      <td>0.351863</td>\n",
       "      <td>0.198941</td>\n",
       "      <td>0.947404</td>\n",
       "    </tr>\n",
       "    <tr>\n",
       "      <th>501</th>\n",
       "      <td>0.444725</td>\n",
       "      <td>0.372635</td>\n",
       "      <td>0.182641</td>\n",
       "      <td>0.947404</td>\n",
       "    </tr>\n",
       "  </tbody>\n",
       "</table>\n",
       "<p>1000 rows × 4 columns</p>\n",
       "</div>"
      ],
      "text/plain": [
       "           w1        w2        w3  accuracy\n",
       "610  0.258671  0.259550  0.481779  0.959281\n",
       "749  0.249549  0.252133  0.498318  0.959281\n",
       "207  0.231672  0.262851  0.505477  0.959281\n",
       "442  0.241792  0.286375  0.471832  0.959281\n",
       "795  0.208162  0.321381  0.470458  0.959281\n",
       "..        ...       ...       ...       ...\n",
       "769  0.522354  0.270257  0.207388  0.947743\n",
       "285  0.474847  0.335260  0.189892  0.947404\n",
       "75   0.447734  0.353069  0.199196  0.947404\n",
       "867  0.449196  0.351863  0.198941  0.947404\n",
       "501  0.444725  0.372635  0.182641  0.947404\n",
       "\n",
       "[1000 rows x 4 columns]"
      ]
     },
     "execution_count": 17,
     "metadata": {},
     "output_type": "execute_result"
    }
   ],
   "source": [
    "result = pd.DataFrame(w.numpy(), columns=['w1', 'w2', 'w3'])\n",
    "result['accuracy'] = acc\n",
    "result.sort_values('accuracy', ascending=False)"
   ]
  },
  {
   "cell_type": "code",
   "execution_count": null,
   "metadata": {},
   "outputs": [],
   "source": []
  }
 ],
 "metadata": {
  "kernelspec": {
   "display_name": "pytorch",
   "language": "python",
   "name": "pytorch"
  },
  "language_info": {
   "codemirror_mode": {
    "name": "ipython",
    "version": 3
   },
   "file_extension": ".py",
   "mimetype": "text/x-python",
   "name": "python",
   "nbconvert_exporter": "python",
   "pygments_lexer": "ipython3",
   "version": "3.8.5"
  }
 },
 "nbformat": 4,
 "nbformat_minor": 4
}
